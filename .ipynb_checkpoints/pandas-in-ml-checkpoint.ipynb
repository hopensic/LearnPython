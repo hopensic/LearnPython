{
 "cells": [
  {
   "cell_type": "markdown",
   "metadata": {},
   "source": [
    "# 1. pandas的基本用法"
   ]
  },
  {
   "cell_type": "code",
   "execution_count": 34,
   "metadata": {},
   "outputs": [],
   "source": [
    "import pandas as pd\n",
    "from sklearn.model_selection import train_test_split\n",
    "from sklearn.metrics import mean_absolute_error"
   ]
  },
  {
   "cell_type": "code",
   "execution_count": null,
   "metadata": {},
   "outputs": [],
   "source": [
    "#读取csv文件\n",
    "melbourne_file_path = 'data_raw/melb_data.csv'\n",
    "melbourne_data = pd.read_csv(melbourne_file_path) \n",
    "\n",
    "#显示前5行读取的文件\n",
    "melbourne_data.head()\n",
    "#数据文件的概括信息，主要通过(count, std, min, 25%, 50, 75, max)这8个字段来显示\n",
    "melbourne_data.describe()\n",
    "\n",
    "#获取所有的列名\n",
    "melbourne_data.columns\n",
    "#获取某一列的所有值\n",
    "y = melbourne_data.Price\n",
    "\n",
    "#根据部分列名，获取这些列的所有值\n",
    "melbourne_features = ['Rooms', 'Bathroom', 'Landsize', 'Lattitude', 'Longtitude']\n",
    "X = melbourne_data[melbourne_features]\n",
    "X.head()\n",
    "\n",
    "#将数据分割成训练集和测试集\n",
    "train_X, val_X, train_y, val_y = train_test_split(X,y,random_state=1)\n",
    "#计算MAE\n",
    "#val_mae = mean_absolute_error(val_y,val_predictions)\n",
    "\n",
    "#向pd中写入数据，输出到csv\n",
    "# Save predictions in format used for competition scoring\n",
    "# output = pd.DataFrame({'Id': X_test.index,\n",
    "#                        'SalePrice': preds_test})\n",
    "# output.to_csv('submission.csv', index=False)"
   ]
  },
  {
   "cell_type": "markdown",
   "metadata": {},
   "source": [
    "# 2.Pandas进阶用法"
   ]
  },
  {
   "cell_type": "code",
   "execution_count": null,
   "metadata": {},
   "outputs": [],
   "source": [
    "# 数据集的复制\n",
    "#X_full = X.copy()\n",
    "\n",
    "X_full = pd.read_csv('data_raw/train.csv', index_col='Id')\n",
    "X_test_full = pd.read_csv('data_raw/test.csv', index_col='Id')\n",
    "# features= ['LotArea', 'YearBuilt', '1stFlrSF','2ndFlrSF','Fireplaces',\n",
    "#            'OverallQual','OverallCond','MSSubClass','GrLivArea','LowQualFinSF']\n",
    "\n",
    "# X = X_full[features].copy()\n",
    "# y = X_full.SalePrice\n",
    "# X_test = X_test_full[features].copy()\n",
    "# X_train, X_valid, y_train, y_valid = train_test_split(X, y, train_size=0.8, test_size=0.2,\n",
    "#                                                       random_state=0)\n",
    "\n",
    "# 获取字段值中有空的那些列\n",
    "cols_with_missing = [col for col in X_full.columns\n",
    "                     if X_full[col].isnull().any()]\n",
    "# 删除那些字段值中有空的那些列\n",
    "reduced_X = X_full.drop(cols_with_missing, axis=1)\n",
    "\n",
    "#增加字段\n",
    "for col in cols_with_missing:\n",
    "    X_full[col + '_was_missing'] = X_full[col].isnull()\n",
    "\n",
    "print(X_full.shape)\n",
    "print(reduced_X.shape)\n",
    "\n",
    "missing_val_count_by_column = (X_full.isnull().sum())\n",
    "print(missing_val_count_by_column.values)\n",
    "print(type(missing_val_count_by_column))\n"
   ]
  },
  {
   "cell_type": "code",
   "execution_count": 33,
   "metadata": {},
   "outputs": [
    {
     "ename": "NameError",
     "evalue": "name 'np' is not defined",
     "output_type": "error",
     "traceback": [
      "\u001b[1;31m---------------------------------------------------------------------------\u001b[0m",
      "\u001b[1;31mNameError\u001b[0m                                 Traceback (most recent call last)",
      "\u001b[1;32m<ipython-input-33-1baa3cd3c8d3>\u001b[0m in \u001b[0;36m<module>\u001b[1;34m\u001b[0m\n\u001b[1;32m----> 1\u001b[1;33m df = pd.DataFrame(dict(age=[5, 6, np.NaN],\n\u001b[0m\u001b[0;32m      2\u001b[0m                    born=[pd.NaT, pd.Timestamp('1939-05-27'),\n\u001b[0;32m      3\u001b[0m                          pd.Timestamp('1940-04-25')],\n\u001b[0;32m      4\u001b[0m                    \u001b[0mname\u001b[0m\u001b[1;33m=\u001b[0m\u001b[1;33m[\u001b[0m\u001b[1;34m'Alfred'\u001b[0m\u001b[1;33m,\u001b[0m \u001b[1;34m'Batman'\u001b[0m\u001b[1;33m,\u001b[0m \u001b[1;34m''\u001b[0m\u001b[1;33m]\u001b[0m\u001b[1;33m,\u001b[0m\u001b[1;33m\u001b[0m\u001b[1;33m\u001b[0m\u001b[0m\n\u001b[0;32m      5\u001b[0m                    toy=[None, 'Batmobile', 'Joker']))\n",
      "\u001b[1;31mNameError\u001b[0m: name 'np' is not defined"
     ]
    }
   ],
   "source": [
    "df = pd.DataFrame(dict(age=[5, 6, np.NaN],\n",
    "                   born=[pd.NaT, pd.Timestamp('1939-05-27'),\n",
    "                         pd.Timestamp('1940-04-25')],\n",
    "                   name=['Alfred', 'Batman', ''],\n",
    "                   toy=[None, 'Batmobile', 'Joker']))\n",
    "df"
   ]
  }
 ],
 "metadata": {
  "kernelspec": {
   "display_name": "Python 3",
   "language": "python",
   "name": "python3"
  },
  "language_info": {
   "codemirror_mode": {
    "name": "ipython",
    "version": 3
   },
   "file_extension": ".py",
   "mimetype": "text/x-python",
   "name": "python",
   "nbconvert_exporter": "python",
   "pygments_lexer": "ipython3",
   "version": "3.7.4"
  }
 },
 "nbformat": 4,
 "nbformat_minor": 4
}
